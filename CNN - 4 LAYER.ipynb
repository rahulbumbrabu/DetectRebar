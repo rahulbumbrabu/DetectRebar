{
 "cells": [
  {
   "cell_type": "code",
   "execution_count": 26,
   "id": "14672413",
   "metadata": {},
   "outputs": [],
   "source": [
    "import os\n",
    "import numpy as np\n",
    "from PIL import Image\n",
    "import tensorflow as tf\n",
    "from tensorflow import keras\n",
    "rebar = \"rebars\"\n",
    "debris = \"cementitiousDebris\"\n",
    "image_size = (256, 256)\n",
    "image = []\n",
    "label = []\n",
    "for filename in os.listdir(rebar):\n",
    "    if filename.endswith(\".png\"):\n",
    "        img = Image.open(os.path.join(rebar, filename))\n",
    "        img = img.resize(image_size)\n",
    "        img_array = np.asarray(img)\n",
    "        img_array = img_array/255.0\n",
    "        img_array = img_array.flatten()\n",
    "        image.append(img_array)\n",
    "        label.append(0)\n",
    "for filename in os.listdir(debris):\n",
    "    if filename.endswith(\".png\"):\n",
    "        img = Image.open(os.path.join(debris, filename))\n",
    "        img = img.resize(image_size)\n",
    "        img_array = np.asarray(img)\n",
    "        img_array = img_array/255.0\n",
    "        img_array = img_array.flatten()\n",
    "        image.append(img_array)\n",
    "        label.append(1)\n",
    "image = np.array(image)\n",
    "label = np.array(label)\n",
    "image = image.reshape(-1, 256, 256, 1) "
   ]
  },
  {
   "cell_type": "code",
   "execution_count": 27,
   "id": "972e2811",
   "metadata": {},
   "outputs": [],
   "source": [
    "from sklearn.model_selection import train_test_split\n",
    "x_train, x_val, y_train, y_val = train_test_split(image, label, test_size=0.2, random_state=42)\n"
   ]
  },
  {
   "cell_type": "code",
   "execution_count": 28,
   "id": "dea86afa",
   "metadata": {},
   "outputs": [],
   "source": [
    "input_shape = (256, 256, 1) # grayscale image with 256x256 size\n",
    "num_classes = 2 # rebar and debris\n",
    "model = keras.Sequential([\n",
    "    keras.layers.Conv2D(filters=32, kernel_size=(3, 3), activation='relu', input_shape=input_shape),\n",
    "    keras.layers.MaxPooling2D(pool_size=(2, 2)),\n",
    "    keras.layers.Conv2D(filters=64, kernel_size=(3, 3), activation='relu'),\n",
    "    keras.layers.MaxPooling2D(pool_size=(2, 2)),\n",
    "    keras.layers.Flatten(),\n",
    "    keras.layers.Dense(units=128, activation='relu'),\n",
    "    keras.layers.Dense(units=num_classes, activation='softmax')\n",
    "])\n"
   ]
  },
  {
   "cell_type": "code",
   "execution_count": 29,
   "id": "eef12020",
   "metadata": {},
   "outputs": [],
   "source": [
    "model.compile(loss='sparse_categorical_crossentropy', optimizer='adam', metrics=['accuracy'])"
   ]
  },
  {
   "cell_type": "code",
   "execution_count": 30,
   "id": "ebbf6301",
   "metadata": {},
   "outputs": [
    {
     "name": "stdout",
     "output_type": "stream",
     "text": [
      "Epoch 1/12\n",
      "9/9 [==============================] - 27s 2s/step - loss: 3.8998 - accuracy: 0.5774 - val_loss: 0.5996 - val_accuracy: 0.6866\n",
      "Epoch 2/12\n",
      "9/9 [==============================] - 20s 2s/step - loss: 0.6015 - accuracy: 0.7094 - val_loss: 0.5802 - val_accuracy: 0.6866\n",
      "Epoch 3/12\n",
      "9/9 [==============================] - 23s 3s/step - loss: 0.5505 - accuracy: 0.7132 - val_loss: 0.5170 - val_accuracy: 0.7910\n",
      "Epoch 4/12\n",
      "9/9 [==============================] - 22s 2s/step - loss: 0.4827 - accuracy: 0.7925 - val_loss: 0.4975 - val_accuracy: 0.8060\n",
      "Epoch 5/12\n",
      "9/9 [==============================] - 21s 2s/step - loss: 0.3358 - accuracy: 0.8566 - val_loss: 0.5812 - val_accuracy: 0.7313\n",
      "Epoch 6/12\n",
      "9/9 [==============================] - 24s 3s/step - loss: 0.2260 - accuracy: 0.9019 - val_loss: 0.3944 - val_accuracy: 0.8209\n",
      "Epoch 7/12\n",
      "9/9 [==============================] - 22s 2s/step - loss: 0.1708 - accuracy: 0.9358 - val_loss: 0.3975 - val_accuracy: 0.8060\n",
      "Epoch 8/12\n",
      "9/9 [==============================] - 23s 3s/step - loss: 0.1534 - accuracy: 0.9547 - val_loss: 0.5324 - val_accuracy: 0.7015\n",
      "Epoch 9/12\n",
      "9/9 [==============================] - 22s 2s/step - loss: 0.1060 - accuracy: 0.9623 - val_loss: 0.3879 - val_accuracy: 0.8358\n",
      "Epoch 10/12\n",
      "9/9 [==============================] - 23s 3s/step - loss: 0.0598 - accuracy: 0.9811 - val_loss: 0.7445 - val_accuracy: 0.7910\n",
      "Epoch 11/12\n",
      "9/9 [==============================] - 21s 2s/step - loss: 0.0461 - accuracy: 0.9811 - val_loss: 1.0143 - val_accuracy: 0.7761\n",
      "Epoch 12/12\n",
      "9/9 [==============================] - 22s 2s/step - loss: 0.0531 - accuracy: 0.9887 - val_loss: 0.3997 - val_accuracy: 0.8358\n"
     ]
    }
   ],
   "source": [
    "history = model.fit(x_train, y_train, batch_size=32, epochs=12, validation_data=(x_val, y_val))\n"
   ]
  },
  {
   "cell_type": "code",
   "execution_count": 31,
   "id": "98705cde",
   "metadata": {},
   "outputs": [
    {
     "name": "stdout",
     "output_type": "stream",
     "text": [
      "11/11 [==============================] - 5s 424ms/step - loss: 0.1020 - accuracy: 0.9578\n",
      "Test accuracy: 0.9578313231468201\n"
     ]
    }
   ],
   "source": [
    "test_loss, test_acc = model.evaluate(image, label)\n",
    "print('Test accuracy:', test_acc)\n"
   ]
  },
  {
   "cell_type": "code",
   "execution_count": 32,
   "id": "930b248b",
   "metadata": {},
   "outputs": [
    {
     "name": "stdout",
     "output_type": "stream",
     "text": [
      "11/11 [==============================] - 5s 422ms/step\n"
     ]
    }
   ],
   "source": [
    "y = model.predict(image)"
   ]
  },
  {
   "cell_type": "code",
   "execution_count": 33,
   "id": "f04a29b8",
   "metadata": {},
   "outputs": [],
   "source": [
    "predicted_class = np.argmax(y, axis=1)\n"
   ]
  },
  {
   "cell_type": "code",
   "execution_count": 34,
   "id": "32f2cd74",
   "metadata": {},
   "outputs": [
    {
     "ename": "SyntaxError",
     "evalue": "invalid syntax (1397577222.py, line 4)",
     "output_type": "error",
     "traceback": [
      "\u001b[1;36m  Input \u001b[1;32mIn [34]\u001b[1;36m\u001b[0m\n\u001b[1;33m    if(predicted_class == 1) return \"debris\"\u001b[0m\n\u001b[1;37m                             ^\u001b[0m\n\u001b[1;31mSyntaxError\u001b[0m\u001b[1;31m:\u001b[0m invalid syntax\n"
     ]
    }
   ],
   "source": [
    "def predictedClass(image, model):\n",
    "    y = model.predict(image)\n",
    "    predicted_class = np.argmax(y, axis=1)\n",
    "    if(predicted_class == 1) return \"debris\"\n",
    "    else return \"rebar\";\n",
    "    "
   ]
  },
  {
   "cell_type": "code",
   "execution_count": 8,
   "id": "44eba7e1",
   "metadata": {},
   "outputs": [
    {
     "ename": "FileNotFoundError",
     "evalue": "[WinError 3] The system cannot find the path specified: 'testing_cementitiousDebris'",
     "output_type": "error",
     "traceback": [
      "\u001b[1;31m---------------------------------------------------------------------------\u001b[0m",
      "\u001b[1;31mFileNotFoundError\u001b[0m                         Traceback (most recent call last)",
      "Input \u001b[1;32mIn [8]\u001b[0m, in \u001b[0;36m<cell line: 15>\u001b[1;34m()\u001b[0m\n\u001b[0;32m      5\u001b[0m testing_label \u001b[38;5;241m=\u001b[39m []\n\u001b[0;32m      6\u001b[0m \u001b[38;5;66;03m# for filename in os.listdir(testing_rebar):\u001b[39;00m\n\u001b[0;32m      7\u001b[0m \u001b[38;5;66;03m#     if filename.endswith(\".png\"):\u001b[39;00m\n\u001b[0;32m      8\u001b[0m \u001b[38;5;66;03m#         img = Image.open(os.path.join(testing_rebar, filename))\u001b[39;00m\n\u001b[1;32m   (...)\u001b[0m\n\u001b[0;32m     13\u001b[0m \u001b[38;5;66;03m#         testing_image.append(img_array)\u001b[39;00m\n\u001b[0;32m     14\u001b[0m \u001b[38;5;66;03m#         testing_label.append(0)\u001b[39;00m\n\u001b[1;32m---> 15\u001b[0m \u001b[38;5;28;01mfor\u001b[39;00m filename \u001b[38;5;129;01min\u001b[39;00m \u001b[43mos\u001b[49m\u001b[38;5;241;43m.\u001b[39;49m\u001b[43mlistdir\u001b[49m\u001b[43m(\u001b[49m\u001b[43mtesting_debris\u001b[49m\u001b[43m)\u001b[49m:\n\u001b[0;32m     16\u001b[0m     \u001b[38;5;28;01mif\u001b[39;00m filename\u001b[38;5;241m.\u001b[39mendswith(\u001b[38;5;124m\"\u001b[39m\u001b[38;5;124m.png\u001b[39m\u001b[38;5;124m\"\u001b[39m):\n\u001b[0;32m     17\u001b[0m         img \u001b[38;5;241m=\u001b[39m Image\u001b[38;5;241m.\u001b[39mopen(os\u001b[38;5;241m.\u001b[39mpath\u001b[38;5;241m.\u001b[39mjoin(testing_debris, filename))\n",
      "\u001b[1;31mFileNotFoundError\u001b[0m: [WinError 3] The system cannot find the path specified: 'testing_cementitiousDebris'"
     ]
    }
   ],
   "source": [
    "testing_rebar = \"testing_rebars\"\n",
    "testing_debris = \"testing_cementitiousDebris\"\n",
    "image_size = (256, 256)\n",
    "testing_image = []\n",
    "testing_label = []\n",
    "# for filename in os.listdir(testing_rebar):\n",
    "#     if filename.endswith(\".png\"):\n",
    "#         img = Image.open(os.path.join(testing_rebar, filename))\n",
    "#         img = img.resize(image_size)\n",
    "#         img_array = np.asarray(img)\n",
    "#         img_array = img_array/255.0\n",
    "#         img_array = img_array.flatten()\n",
    "#         testing_image.append(img_array)\n",
    "#         testing_label.append(0)\n",
    "for filename in os.listdir(testing_debris):\n",
    "    if filename.endswith(\".png\"):\n",
    "        img = Image.open(os.path.join(testing_debris, filename))\n",
    "        img = img.resize(image_size)\n",
    "        img_array = np.asarray(img)\n",
    "        img_array = img_array/255.0\n",
    "        img_array = img_array.flatten()\n",
    "        testing_image.append(img_array)\n",
    "        testing_label.append(1)\n",
    "image = np.array(image)\n",
    "testing_label = np.array(testing_label)\n",
    "image = image.reshape(-1, 256, 256, 1)"
   ]
  },
  {
   "cell_type": "code",
   "execution_count": 48,
   "id": "b80d33c0",
   "metadata": {},
   "outputs": [
    {
     "name": "stdout",
     "output_type": "stream",
     "text": [
      "1/1 [==============================] - 0s 63ms/step\n"
     ]
    }
   ],
   "source": [
    "for filename in os.listdir(\"testing\"):\n",
    "    img = Image.open(os.path.join(\"testing\", filename))\n",
    "    img = img.resize(image_size)\n",
    "    img_arrayt = np.asarray(img)\n",
    "    img_arrayt = img_arrayt/255.0\n",
    "    img_arrayt = np.mean(img_arrayt, axis = 2)\n",
    "    img_arrayt = img_arrayt.flatten()\n",
    "    img_arrayt = img_arrayt.reshape((1, -1))\n",
    "img_arrayt = img_arrayt.reshape(-1, 256, 256, 1)\n",
    "y = model.predict(img_arrayt)\n",
    "predicted_class = np.argmax(y, axis=1)"
   ]
  },
  {
   "cell_type": "code",
   "execution_count": 49,
   "id": "d609d578",
   "metadata": {},
   "outputs": [
    {
     "data": {
      "text/plain": [
       "array([1], dtype=int64)"
      ]
     },
     "execution_count": 49,
     "metadata": {},
     "output_type": "execute_result"
    }
   ],
   "source": [
    "predicted_class"
   ]
  },
  {
   "cell_type": "code",
   "execution_count": null,
   "id": "3ca25b9e",
   "metadata": {},
   "outputs": [],
   "source": []
  },
  {
   "cell_type": "code",
   "execution_count": null,
   "id": "d05b3327",
   "metadata": {},
   "outputs": [],
   "source": []
  },
  {
   "cell_type": "code",
   "execution_count": null,
   "id": "10815bd9",
   "metadata": {},
   "outputs": [],
   "source": []
  }
 ],
 "metadata": {
  "kernelspec": {
   "display_name": "Python 3 (ipykernel)",
   "language": "python",
   "name": "python3"
  },
  "language_info": {
   "codemirror_mode": {
    "name": "ipython",
    "version": 3
   },
   "file_extension": ".py",
   "mimetype": "text/x-python",
   "name": "python",
   "nbconvert_exporter": "python",
   "pygments_lexer": "ipython3",
   "version": "3.10.5"
  }
 },
 "nbformat": 4,
 "nbformat_minor": 5
}
